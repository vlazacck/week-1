{
 "cells": [
  {
   "cell_type": "code",
   "execution_count": null,
   "metadata": {
    "vscode": {
     "languageId": "plaintext"
    }
   },
   "outputs": [],
   "source": [
    "import pandas as pd\n",
    "\n",
    "# Load raw data\n",
    "raw_data = pd.read_csv('../src/data.csv')\n",
    "print(\"Data Info:\")\n",
    "print(raw_data.info())  # Check the structure and missing values\n",
    "print(\"\\nSample Data:\")\n",
    "print(raw_data.head())  # View first few rows\n"
   ]
  }
 ],
 "metadata": {
  "language_info": {
   "name": "python"
  }
 },
 "nbformat": 4,
 "nbformat_minor": 2
}
