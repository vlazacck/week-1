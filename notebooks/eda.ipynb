{
 "cells": [
  {
   "cell_type": "code",
   "execution_count": null,
   "metadata": {},
   "outputs": [],
   "source": [
    "import os\n",
    "\n",
    "# Set up the root directory and plots directory for Jupyter Notebook\n",
    "root_dir = os.path.abspath(os.path.join(os.getcwd(), \"../\"))  # Move to the project root\n",
    "plots_dir = os.path.join(root_dir, \"plots\")\n",
    "\n",
    "# Ensure the plots directory exists\n",
    "os.makedirs(plots_dir, exist_ok=True)\n",
    "print(f\"Plots will be saved in: {plots_dir}\")\n",
    "\n"
   ]
  },
  {
   "cell_type": "code",
   "execution_count": null,
   "metadata": {},
   "outputs": [],
   "source": [
    "import pandas as pd\n",
    "\n",
    "# Load the cleaned data\n",
    "cleaned_data = pd.read_csv('src/cleaned_data.csv')\n",
    "\n",
    "# Verify the data\n",
    "print(\"Data Info:\")\n",
    "print(cleaned_data.info())  # Check the structure and missing values\n",
    "print(\"\\nSample Data:\")\n",
    "print(cleaned_data.head())  # View first few rows\n",
    "  # View first few rows\n"
   ]
  },
  {
   "cell_type": "code",
   "execution_count": null,
   "metadata": {},
   "outputs": [],
   "source": []
  },
  {
   "cell_type": "code",
   "execution_count": null,
   "metadata": {},
   "outputs": [],
   "source": [
    "import pandas as pd\n",
    "\n",
    "# Load the cleaned data\n",
    "cleaned_data = pd.read_csv('src/cleaned_data.csv')\n",
    "\n",
    "# Display the first few rows to confirm loading\n",
    "print(cleaned_data.head())\n"
   ]
  },
  {
   "cell_type": "code",
   "execution_count": 34,
   "metadata": {},
   "outputs": [],
   "source": [
    "import pandas as pd\n",
    "\n",
    "# Load the raw data\n",
    "data_path = 'src/data.csv'  # Make sure this path is correct\n",
    "raw_data = pd.read_csv(data_path)\n"
   ]
  },
  {
   "cell_type": "code",
   "execution_count": null,
   "metadata": {},
   "outputs": [],
   "source": [
    "# Drop rows with missing headline, publisher, or date\n",
    "cleaned_data = raw_data.dropna(subset=['headline', 'publisher', 'date'])\n",
    "\n",
    "# Standardize text fields (e.g., strip extra spaces, lowercase publisher)\n",
    "cleaned_data['headline'] = cleaned_data['headline'].str.strip()\n",
    "cleaned_data['publisher'] = cleaned_data['publisher'].str.lower()\n",
    "\n",
    "\n",
    "# Convert the 'date' column to datetime format with proper handling\n",
    "cleaned_data['date'] = pd.to_datetime(cleaned_data['date'], errors='coerce', utc=True)\n",
    "\n",
    "\n",
    "# Drop rows where 'date' could not be parsed\n",
    "cleaned_data = cleaned_data.dropna(subset=['date'])\n",
    "print(f\"Data shape after fixing 'date': {cleaned_data.shape}\")\n",
    "\n",
    "\n",
    "# Drop duplicates\n",
    "cleaned_data = cleaned_data.drop_duplicates()\n",
    "\n",
    "# Check the cleaned data\n",
    "print(\"Cleaned Data Info:\")\n",
    "print(cleaned_data.info())\n"
   ]
  },
  {
   "cell_type": "code",
   "execution_count": null,
   "metadata": {},
   "outputs": [],
   "source": [
    "# Save the cleaned dataset to a CSV file\n",
    "cleaned_data.to_csv('src/cleaned_data.csv', index=False)\n",
    "print(\"Cleaned data saved to 'src/cleaned_data.csv'\")\n"
   ]
  },
  {
   "cell_type": "code",
   "execution_count": null,
   "metadata": {},
   "outputs": [],
   "source": [
    "# Clean and standardize text fields\n",
    "raw_data['headline'] = raw_data['headline'].str.strip()\n",
    "raw_data['publisher'] = raw_data['publisher'].str.lower().str.strip()\n"
   ]
  },
  {
   "cell_type": "code",
   "execution_count": null,
   "metadata": {},
   "outputs": [],
   "source": [
    "# Save cleaned data to a new file\n",
    "raw_data.to_csv('src/cleaned_data.csv', index=False)\n",
    "print(\"Cleaned data saved to 'src/cleaned_data.csv'\")\n"
   ]
  },
  {
   "cell_type": "code",
   "execution_count": null,
   "metadata": {},
   "outputs": [],
   "source": [
    "cleaned_data = pd.read_csv('src/cleaned_data.csv')\n",
    "print(cleaned_data.info())\n",
    "print(cleaned_data.head())\n"
   ]
  },
  {
   "cell_type": "code",
   "execution_count": 9,
   "metadata": {},
   "outputs": [],
   "source": [
    "data_path = os.path.join(os.getcwd(), '..', 'src', 'data.csv')\n"
   ]
  },
  {
   "cell_type": "code",
   "execution_count": 10,
   "metadata": {},
   "outputs": [],
   "source": [
    "data_path = 'C:/Users/Hp/Music/Projectss/week 1/src/data.csv'\n"
   ]
  },
  {
   "cell_type": "code",
   "execution_count": 11,
   "metadata": {},
   "outputs": [],
   "source": [
    "os.chdir('C:/Users/Hp/Music/Projectss/week 1/')\n"
   ]
  },
  {
   "cell_type": "code",
   "execution_count": null,
   "metadata": {},
   "outputs": [],
   "source": [
    "# Import libraries for visualization\n",
    "import matplotlib.pyplot as plt\n",
    "import seaborn as sns\n",
    "import os\n",
    "\n",
    "# Ensure 'plots' directory exists\n",
    "plots_dir = 'plots'  # Relative path to the 'plots' directory\n",
    "if not os.path.exists(plots_dir):\n",
    "    os.makedirs(plots_dir)\n",
    "\n",
    "# Headline lengths\n",
    "cleaned_data['headline_length'] = cleaned_data['headline'].apply(len)\n",
    "print(\"Headline Length Statistics:\")\n",
    "print(cleaned_data['headline_length'].describe())\n",
    "\n",
    "# Articles per publisher\n",
    "publisher_counts = cleaned_data['publisher'].value_counts()\n",
    "print(\"\\nTop Publishers by Article Count:\")\n",
    "print(publisher_counts.head(10))\n",
    "\n",
    "# Publication trends over time\n",
    "cleaned_data['date'] = pd.to_datetime(cleaned_data['date'], utc=True)  # Ensure 'date' is datetime\n",
    "cleaned_data['publication_date'] = cleaned_data['date'].dt.date\n",
    "date_counts = cleaned_data['publication_date'].value_counts().sort_index()\n",
    "\n",
    "# Plot publication trends\n",
    "plt.figure(figsize=(12, 6))\n",
    "date_counts.plot()\n",
    "plt.title('Publication Trend Over Time')\n",
    "plt.xlabel('Date')\n",
    "plt.ylabel('Number of Articles')\n",
    "\n",
    "# Save the plot in the 'plots' directory\n",
    "plt.savefig(os.path.join(plots_dir, 'publication_trends.png'))  # Save the plot\n",
    "plt.show()\n"
   ]
  },
  {
   "cell_type": "code",
   "execution_count": null,
   "metadata": {},
   "outputs": [],
   "source": [
    "# Import necessary libraries for sentiment analysis\n",
    "import nltk\n",
    "from nltk.sentiment.vader import SentimentIntensityAnalyzer\n",
    "\n",
    "# Download necessary NLTK data\n",
    "nltk.download('vader_lexicon')\n",
    "\n",
    "# Initialize SentimentIntensityAnalyzer\n",
    "sia = SentimentIntensityAnalyzer()\n",
    "\n",
    "# Apply sentiment analysis to the 'headline' column\n",
    "cleaned_data['sentiment_score'] = cleaned_data['headline'].apply(lambda x: sia.polarity_scores(x)['compound'])\n",
    "\n",
    "# Classify sentiment based on the score\n",
    "def classify_sentiment(score):\n",
    "    if score >= 0.05:\n",
    "        return 'positive'\n",
    "    elif score <= -0.05:\n",
    "        return 'negative'\n",
    "    else:\n",
    "        return 'neutral'\n",
    "\n",
    "cleaned_data['sentiment'] = cleaned_data['sentiment_score'].apply(classify_sentiment)\n",
    "\n",
    "# View the first few rows with sentiment classifications\n",
    "cleaned_data[['headline', 'sentiment']].head()\n"
   ]
  },
  {
   "cell_type": "code",
   "execution_count": null,
   "metadata": {},
   "outputs": [],
   "source": [
    "from textblob import TextBlob\n",
    "import pandas as pd\n",
    "\n",
    "# Assuming 'cleaned_data' is the DataFrame containing the news headlines\n",
    "\n",
    "# Function to calculate sentiment\n",
    "def get_sentiment(text):\n",
    "    blob = TextBlob(text)\n",
    "    polarity = blob.sentiment.polarity  # Sentiment polarity score (-1 to 1)\n",
    "    if polarity > 0:\n",
    "        return 'positive'\n",
    "    elif polarity < 0:\n",
    "        return 'negative'\n",
    "    else:\n",
    "        return 'neutral'\n",
    "\n",
    "# Apply sentiment analysis on the 'headline' column\n",
    "cleaned_data['sentiment'] = cleaned_data['headline'].apply(get_sentiment)\n",
    "\n",
    "# Add a sentiment score for visualization\n",
    "cleaned_data['sentiment_score'] = cleaned_data['headline'].apply(lambda x: TextBlob(x).sentiment.polarity)\n",
    "\n",
    "# Show the sentiment breakdown\n",
    "print(cleaned_data['sentiment'].value_counts())\n",
    "\n",
    "# Visualize sentiment distribution\n",
    "import seaborn as sns\n",
    "import matplotlib.pyplot as plt\n",
    "\n",
    "plt.figure(figsize=(10, 6))\n",
    "sns.histplot(cleaned_data['sentiment_score'], kde=True, bins=30)\n",
    "plt.title('Sentiment Score Distribution of Headlines')\n",
    "plt.xlabel('Sentiment Score')\n",
    "plt.ylabel('Frequency')\n",
    "plt.show()\n"
   ]
  },
  {
   "cell_type": "code",
   "execution_count": null,
   "metadata": {},
   "outputs": [],
   "source": []
  },
  {
   "cell_type": "code",
   "execution_count": null,
   "metadata": {},
   "outputs": [],
   "source": [
    "from sklearn.decomposition import LatentDirichletAllocation\n",
    "from sklearn.feature_extraction.text import TfidfVectorizer\n",
    "import matplotlib.pyplot as plt\n",
    "import numpy as np\n",
    "\n",
    "# Sample data (headlines)\n",
    "documents = [\n",
    "    \"FDA approval boosts shares\",\n",
    "    \"Price targets raised for companies\",\n",
    "    \"New reports on earnings growth\",\n",
    "    \"Stocks increase ahead of market close\",\n",
    "    \"Reports show strong quarterly performance\"\n",
    "]\n",
    "\n",
    "# Step 1: Vectorize the documents\n",
    "vectorizer = TfidfVectorizer(stop_words='english')\n",
    "X = vectorizer.fit_transform(documents)\n",
    "\n",
    "# Step 2: Train the LDA model\n",
    "lda_model = LatentDirichletAllocation(n_components=5, random_state=42)\n",
    "lda_model.fit(X)\n",
    "\n",
    "# Step 3: Get the top words from each topic\n",
    "def get_top_words(lda_model, vectorizer, n_top_words=10):\n",
    "    terms = vectorizer.get_feature_names_out()\n",
    "    topic_words = []\n",
    "    for topic_idx, topic in enumerate(lda_model.components_):\n",
    "        top_indices = topic.argsort()[-n_top_words:][::-1]\n",
    "        top_words = [terms[i] for i in top_indices]\n",
    "        topic_words.append(top_words)\n",
    "    return topic_words\n",
    "\n",
    "n_top_words = 10  # Display top 10 words\n",
    "topic_words = get_top_words(lda_model, vectorizer, n_top_words)\n",
    "\n",
    "# Step 4: Plot the top words for each topic\n",
    "num_topics = len(topic_words)\n",
    "fig, axes = plt.subplots(num_topics, 1, figsize=(10, 6 * num_topics))\n",
    "\n",
    "for i, top_words in enumerate(topic_words):\n",
    "    axes[i].barh(range(len(top_words)), [1] * len(top_words), align='center')\n",
    "    axes[i].set_yticks(range(len(top_words)))\n",
    "    axes[i].set_yticklabels(top_words)\n",
    "    axes[i].set_xlabel('Frequency')\n",
    "    axes[i].set_title(f'Topic {i + 1}')\n",
    "\n",
    "plt.tight_layout()\n",
    "plt.show()\n",
    "\n",
    "num_topics = len(topic_words)\n",
    "fig, axes = plt.subplots(num_topics, 1, figsize=(10, 6 * num_topics))\n",
    "\n",
    "for i, top_words in enumerate(topic_words):\n",
    "    axes[i].barh(range(len(top_words)), [1] * len(top_words), align='center')\n",
    "    axes[i].set_yticks(range(len(top_words)))\n",
    "    axes[i].set_yticklabels(top_words)\n",
    "    axes[i].set_xlabel('Frequency')\n",
    "    axes[i].set_title(f'Topic {i + 1}')\n",
    "\n",
    "plt.tight_layout()\n",
    "plt.show()\n",
    "\n"
   ]
  },
  {
   "cell_type": "code",
   "execution_count": null,
   "metadata": {},
   "outputs": [],
   "source": [
    "# Import necessary libraries for topic modeling\n",
    "import gensim\n",
    "from sklearn.feature_extraction.text import TfidfVectorizer\n",
    "from sklearn.decomposition import LatentDirichletAllocation\n",
    "import nltk\n",
    "from nltk.corpus import stopwords\n",
    "\n",
    "# Download NLTK stopwords\n",
    "nltk.download('stopwords')\n",
    "\n",
    "# Preprocess headlines: remove stopwords\n",
    "stop_words = set(stopwords.words('english'))\n",
    "cleaned_data['processed_headline'] = cleaned_data['headline'].apply(\n",
    "    lambda x: ' '.join([word for word in x.split() if word.lower() not in stop_words])\n",
    ")\n",
    "\n",
    "# Vectorize the headlines using TF-IDF\n",
    "tfidf_vectorizer = TfidfVectorizer(max_df=0.95, min_df=2, stop_words='english')\n",
    "tfidf_matrix = tfidf_vectorizer.fit_transform(cleaned_data['processed_headline'])\n",
    "\n",
    "# Apply LDA for topic modeling\n",
    "num_topics = 5  # You can adjust the number of topics\n",
    "lda = LatentDirichletAllocation(n_components=num_topics, random_state=42)\n",
    "lda.fit(tfidf_matrix)\n",
    "\n",
    "# Display the topics\n",
    "terms = tfidf_vectorizer.get_feature_names_out()\n",
    "for idx, topic in enumerate(lda.components_):\n",
    "    print(f\"Topic {idx + 1}:\")\n",
    "    print(\" \".join([terms[i] for i in topic.argsort()[-10:]]))  # Display top 10 words for each topic\n",
    "    print(\"\\n\")\n"
   ]
  },
  {
   "cell_type": "code",
   "execution_count": null,
   "metadata": {},
   "outputs": [],
   "source": [
    "import pandas as pd\n",
    "from nltk.sentiment.vader import SentimentIntensityAnalyzer\n",
    "\n",
    "# Load the cleaned data\n",
    "cleaned_data = pd.read_csv('src/cleaned_data.csv')\n",
    "\n",
    "# Initialize the sentiment analyzer\n",
    "sia = SentimentIntensityAnalyzer()\n",
    "\n",
    "# Function to calculate sentiment\n",
    "def calculate_sentiment(headline):\n",
    "    sentiment_score = sia.polarity_scores(headline)\n",
    "    return sentiment_score['compound']\n",
    "\n",
    "# Apply sentiment analysis to the 'headline' column\n",
    "cleaned_data['sentiment_score'] = cleaned_data['headline'].apply(calculate_sentiment)\n",
    "\n",
    "# Save the data with sentiment scores\n",
    "cleaned_data.to_csv('src/cleaned_data_with_sentiment.csv', index=False)\n",
    "\n",
    "# Check the output\n",
    "print(\"Sentiment Analysis Results:\")\n",
    "print(cleaned_data[['headline', 'sentiment_score']].head())\n",
    "\n",
    "\n",
    "\n"
   ]
  },
  {
   "cell_type": "code",
   "execution_count": 56,
   "metadata": {},
   "outputs": [
    {
     "name": "stderr",
     "output_type": "stream",
     "text": [
      "C:\\Users\\Hp\\AppData\\Local\\Temp\\ipykernel_5244\\3763123303.py:14: FutureWarning: 'M' is deprecated and will be removed in a future version, please use 'ME' instead.\n",
      "  monthly_publications = cleaned_data.resample('M').size()\n"
     ]
    },
    {
     "name": "stdout",
     "output_type": "stream",
     "text": [
      "Saved: plots\\article_publications_over_time.png\n"
     ]
    },
    {
     "data": {
      "image/png": "[encoded data removed]",
      "text/plain": [
       "<Figure size 1000x600 with 1 Axes>"
      ]
     },
     "metadata": {},
     "output_type": "display_data"
    },
    {
     "name": "stdout",
     "output_type": "stream",
     "text": [
      "Spikes in publication frequency:\n",
      " date\n",
      "2011-05-31 00:00:00-04:00      78\n",
      "2014-08-31 00:00:00-04:00     145\n",
      "2014-10-31 00:00:00-04:00     175\n",
      "2015-08-31 00:00:00-04:00     405\n",
      "2015-11-30 00:00:00-04:00     390\n",
      "2016-02-29 00:00:00-04:00     347\n",
      "2016-05-31 00:00:00-04:00     405\n",
      "2016-08-31 00:00:00-04:00     434\n",
      "2016-11-30 00:00:00-04:00     406\n",
      "2017-04-30 00:00:00-04:00     360\n",
      "2017-10-31 00:00:00-04:00     312\n",
      "2018-07-31 00:00:00-04:00     303\n",
      "2018-08-31 00:00:00-04:00     426\n",
      "2018-09-30 00:00:00-04:00     640\n",
      "2018-10-31 00:00:00-04:00    1033\n",
      "2019-04-30 00:00:00-04:00     370\n",
      "2019-05-31 00:00:00-04:00     426\n",
      "2019-07-31 00:00:00-04:00     508\n",
      "2019-08-31 00:00:00-04:00     712\n",
      "2019-10-31 00:00:00-04:00     686\n",
      "2019-11-30 00:00:00-04:00     907\n",
      "2020-01-31 00:00:00-04:00    1417\n",
      "2020-02-29 00:00:00-04:00    2356\n",
      "2020-03-31 00:00:00-04:00    4680\n",
      "2020-05-31 00:00:00-04:00    9333\n",
      "dtype: int64\n"
     ]
    }
   ],
   "source": [
    "import pandas as pd\n",
    "import matplotlib.pyplot as plt\n",
    "\n",
    "# Load the cleaned data\n",
    "cleaned_data = pd.read_csv('src/cleaned_data.csv')\n",
    "\n",
    "# Convert 'date' to datetime format if not already\n",
    "cleaned_data['date'] = pd.to_datetime(cleaned_data['date'], errors='coerce')\n",
    "\n",
    "# Set the 'date' column as the index for time series analysis\n",
    "cleaned_data.set_index('date', inplace=True)\n",
    "\n",
    "# Resample the data to get the number of articles per month\n",
    "monthly_publications = cleaned_data.resample('M').size()\n",
    "\n",
    "# Plot the number of publications per month\n",
    "plt.figure(figsize=(10, 6))\n",
    "monthly_publications.plot(kind='line', color='b', linewidth=2)\n",
    "plt.title('Article Publications Over Time')\n",
    "plt.xlabel('Date')\n",
    "plt.ylabel('Number of Publications')\n",
    "plt.grid(True)\n",
    "plt.xticks(rotation=45)\n",
    "plt.tight_layout()\n",
    "\n",
    "# Save the plot\n",
    "monthly_publications_plot_path = os.path.join(plots_dir, 'article_publications_over_time.png')\n",
    "plt.savefig(monthly_publications_plot_path)\n",
    "print(f\"Saved: {monthly_publications_plot_path}\")\n",
    "\n",
    "# Show the plot\n",
    "plt.show()\n",
    "\n",
    "# Optionally: Check for spikes or significant changes in publication counts\n",
    "# For example, you can check for large increases in publication frequency in certain periods\n",
    "spikes = monthly_publications[monthly_publications.diff() > 50]  # adjust the threshold as needed\n",
    "print(\"Spikes in publication frequency:\\n\", spikes)\n"
   ]
  },
  {
   "cell_type": "code",
   "execution_count": 57,
   "metadata": {},
   "outputs": [
    {
     "name": "stdout",
     "output_type": "stream",
     "text": [
      "Saved: plots\\hourly_publications_distribution.png\n"
     ]
    },
    {
     "data": {
      "image/png": "[encoded data removed]",
      "text/plain": [
       "<Figure size 1000x600 with 1 Axes>"
      ]
     },
     "metadata": {},
     "output_type": "display_data"
    }
   ],
   "source": [
    "# Extract hour from the 'date' column\n",
    "cleaned_data['hour'] = cleaned_data.index.hour\n",
    "\n",
    "# Plot distribution of publications by hour of the day\n",
    "hourly_distribution = cleaned_data['hour'].value_counts().sort_index()\n",
    "\n",
    "plt.figure(figsize=(10, 6))\n",
    "hourly_distribution.plot(kind='bar', color='c', alpha=0.7)\n",
    "plt.title('Article Publication Frequency by Hour of Day')\n",
    "plt.xlabel('Hour of Day')\n",
    "plt.ylabel('Number of Publications')\n",
    "plt.xticks(rotation=45)\n",
    "plt.tight_layout()\n",
    "\n",
    "# Save the plot\n",
    "hourly_distribution_plot_path = os.path.join(plots_dir, 'hourly_publications_distribution.png')\n",
    "plt.savefig(hourly_distribution_plot_path)\n",
    "print(f\"Saved: {hourly_distribution_plot_path}\")\n",
    "\n",
    "# Show the plot\n",
    "plt.show()\n"
   ]
  },
  {
   "cell_type": "code",
   "execution_count": null,
   "metadata": {},
   "outputs": [],
   "source": [
    "import matplotlib.pyplot as plt\n",
    "import seaborn as sns\n",
    "import os\n",
    "\n",
    "# Load the data with sentiment scores\n",
    "cleaned_data_with_sentiment = pd.read_csv('src/cleaned_data_with_sentiment.csv')\n",
    "\n",
    "# Create the plots directory if it doesn't exist\n",
    "plots_dir = 'plots'  # Relative path to the 'plots' directory\n",
    "if not os.path.exists(plots_dir):\n",
    "    os.makedirs(plots_dir)\n",
    "\n",
    "# Plot the sentiment distribution\n",
    "plt.figure(figsize=(10, 6))\n",
    "sns.histplot(cleaned_data_with_sentiment['sentiment_score'], kde=True, bins=30)\n",
    "plt.title('Sentiment Score Distribution of Headlines')\n",
    "plt.xlabel('Sentiment Score')\n",
    "plt.ylabel('Frequency')\n",
    "\n",
    "# Save the plot in the plots folder\n",
    "plt.savefig(os.path.join(plots_dir, 'sentiment_score_distribution.png'))\n",
    "\n",
    "# Display the plot\n",
    "plt.show()\n"
   ]
  },
  {
   "cell_type": "code",
   "execution_count": 15,
   "metadata": {},
   "outputs": [],
   "source": [
    "# Save the sentiment results to a new CSV\n",
    "cleaned_data_with_sentiment.to_csv('src/cleaned_data_with_sentiment.csv', index=False)\n"
   ]
  },
  {
   "cell_type": "code",
   "execution_count": null,
   "metadata": {},
   "outputs": [],
   "source": [
    "import pandas as pd\n",
    "from nltk.corpus import stopwords\n",
    "import nltk\n",
    "nltk.download('stopwords')\n",
    "\n",
    "# Load the cleaned data\n",
    "cleaned_data = pd.read_csv('src/cleaned_data.csv')  # Adjust path if necessary\n",
    "\n",
    "# Preprocess the text (remove stopwords)\n",
    "stop_words = set(stopwords.words('english'))\n",
    "cleaned_data['processed_headline'] = cleaned_data['headline'].apply(\n",
    "    lambda x: ' '.join([word for word in x.split() if word.lower() not in stop_words])\n",
    ")\n",
    "\n",
    "# Check the first few rows of the cleaned data\n",
    "cleaned_data.head()\n"
   ]
  },
  {
   "cell_type": "code",
   "execution_count": 4,
   "metadata": {},
   "outputs": [],
   "source": [
    "import os\n",
    "os.chdir('..')  # Moves to the project root directory\n",
    "\n"
   ]
  },
  {
   "cell_type": "code",
   "execution_count": 27,
   "metadata": {},
   "outputs": [],
   "source": [
    "from sklearn.feature_extraction.text import TfidfVectorizer\n",
    "\n",
    "# Vectorize the headlines using TF-IDF\n",
    "tfidf_vectorizer = TfidfVectorizer(max_df=0.95, min_df=2, stop_words='english')\n",
    "tfidf_matrix = tfidf_vectorizer.fit_transform(cleaned_data['processed_headline'])\n",
    "\n"
   ]
  },
  {
   "cell_type": "code",
   "execution_count": null,
   "metadata": {},
   "outputs": [],
   "source": [
    "from sklearn.decomposition import LatentDirichletAllocation\n",
    "\n",
    "# Perform LDA for topic modeling\n",
    "n_topics = 5  # Number of topics you want to extract\n",
    "lda_model = LatentDirichletAllocation(n_components=n_topics, random_state=42)\n",
    "lda_model.fit(tfidf_matrix)\n",
    "\n",
    "# Extract topics and their words\n",
    "n_top_words = 10  # Number of words per topic\n",
    "feature_names = tfidf_vectorizer.get_feature_names_out()\n",
    "topics = []\n",
    "\n",
    "for topic_idx, topic in enumerate(lda_model.components_):\n",
    "    topic_words = [feature_names[i] for i in topic.argsort()[:-n_top_words - 1:-1]]\n",
    "    topics.append(f\"Topic {topic_idx + 1}: \" + \" \".join(topic_words))\n",
    "\n",
    "# Output the topics\n",
    "for topic in topics:\n",
    "    print(topic)\n"
   ]
  },
  {
   "cell_type": "code",
   "execution_count": 29,
   "metadata": {},
   "outputs": [],
   "source": [
    "# Save the topics to a CSV\n",
    "topic_df = pd.DataFrame(topics, columns=['Topic'])\n",
    "topic_df.to_csv('src/topics.csv', index=False)\n"
   ]
  },
  {
   "cell_type": "code",
   "execution_count": null,
   "metadata": {},
   "outputs": [],
   "source": [
    "file_path = os.path.join(os.getcwd(), '..', 'src', 'cleaned_data.csv')\n",
    "print(\"Checking file path:\", file_path)\n",
    "print(\"File exists:\", os.path.exists(file_path))\n",
    "\n",
    "\n"
   ]
  }
 ],
 "metadata": {
  "kernelspec": {
   "display_name": "venv",
   "language": "python",
   "name": "python3"
  },
  "language_info": {
   "codemirror_mode": {
    "name": "ipython",
    "version": 3
   },
   "file_extension": ".py",
   "mimetype": "text/x-python",
   "name": "python",
   "nbconvert_exporter": "python",
   "pygments_lexer": "ipython3",
   "version": "3.12.8"
  }
 },
 "nbformat": 4,
 "nbformat_minor": 4
}
